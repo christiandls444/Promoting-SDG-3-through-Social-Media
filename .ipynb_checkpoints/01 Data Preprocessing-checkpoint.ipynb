{
 "cells": [
  {
   "cell_type": "markdown",
   "id": "686f736c",
   "metadata": {},
   "source": [
    "The study collected Twitter data on #SDG3, #HIVawareness, #AIDSawareness, #healthpromotion, #publichealth, #healthcommunication, #healtheducation, and #preventivehealth to analyze public perceptions on health promotion."
   ]
  },
  {
   "cell_type": "code",
   "execution_count": 1,
   "id": "cef42a61",
   "metadata": {},
   "outputs": [
    {
     "data": {
      "text/html": [
       "<div>\n",
       "<style scoped>\n",
       "    .dataframe tbody tr th:only-of-type {\n",
       "        vertical-align: middle;\n",
       "    }\n",
       "\n",
       "    .dataframe tbody tr th {\n",
       "        vertical-align: top;\n",
       "    }\n",
       "\n",
       "    .dataframe thead th {\n",
       "        text-align: right;\n",
       "    }\n",
       "</style>\n",
       "<table border=\"1\" class=\"dataframe\">\n",
       "  <thead>\n",
       "    <tr style=\"text-align: right;\">\n",
       "      <th></th>\n",
       "      <th>user_name</th>\n",
       "      <th>user_location</th>\n",
       "      <th>user_description</th>\n",
       "      <th>user_verified</th>\n",
       "      <th>date</th>\n",
       "      <th>text</th>\n",
       "      <th>hashtags</th>\n",
       "      <th>source</th>\n",
       "    </tr>\n",
       "  </thead>\n",
       "  <tbody>\n",
       "    <tr>\n",
       "      <th>1501</th>\n",
       "      <td>Helu Yemane</td>\n",
       "      <td>NaN</td>\n",
       "      <td>Helu shikor</td>\n",
       "      <td>False</td>\n",
       "      <td>2023-03-21 18:11:13+00:00</td>\n",
       "      <td>RT @HUAWEI_TECH4ALL: Medicines are getting less effective but companies aren't incentivized to develop new ones.\\n\\nâŒ10% chance of success\\nðŸ’°â€¦</td>\n",
       "      <td>NaN</td>\n",
       "      <td>Twitter for Android</td>\n",
       "    </tr>\n",
       "    <tr>\n",
       "      <th>1114</th>\n",
       "      <td>Fazal Mehmood Khan</td>\n",
       "      <td>Islamic Republic of Pakistan</td>\n",
       "      <td>Ph.D. Microbiology, Wuhan Institute of VirologyðŸ‡¨ðŸ‡³Principal investigator in an NSFC research project # 32250410292 on researching phages &amp; Lysin against AMR.</td>\n",
       "      <td>False</td>\n",
       "      <td>2023-03-25 03:24:52+00:00</td>\n",
       "      <td>RT @vjgondal: We are inviting you to submit your research work in our upcoming collection, \"Biofilms and their impact on disease,\" in BMC Mâ€¦</td>\n",
       "      <td>NaN</td>\n",
       "      <td>Twitter for iPhone</td>\n",
       "    </tr>\n",
       "    <tr>\n",
       "      <th>1574</th>\n",
       "      <td>sharazi</td>\n",
       "      <td>NaN</td>\n",
       "      <td>NaN</td>\n",
       "      <td>False</td>\n",
       "      <td>2023-03-21 05:34:00+00:00</td>\n",
       "      <td>RT @HUAWEI_TECH4ALL: Medicines are getting less effective but companies aren't incentivized to develop new ones.\\n\\nâŒ10% chance of success\\nðŸ’°â€¦</td>\n",
       "      <td>NaN</td>\n",
       "      <td>Twitter for Android</td>\n",
       "    </tr>\n",
       "    <tr>\n",
       "      <th>753</th>\n",
       "      <td>INTERNAL MEDICINE INCMNSZ</td>\n",
       "      <td>Ciudad de MÃ©xico</td>\n",
       "      <td>From the Internal Medicine Postgraduate Course of the Instituto Nacional de Ciencias MÃ©dicas y NutriciÃ³n Salvador ZubirÃ¡n, MÃ©xico.</td>\n",
       "      <td>False</td>\n",
       "      <td>2023-03-25 19:37:45+00:00</td>\n",
       "      <td>RT @NEJM: Special Article: Air Pollution and Mortality at the Intersection of Race and Social Class https://t.co/HFezgOVcrK\\n\\n#PublicHealthâ€¦</td>\n",
       "      <td>['PublicHealth']</td>\n",
       "      <td>Twitter for Android</td>\n",
       "    </tr>\n",
       "    <tr>\n",
       "      <th>2925</th>\n",
       "      <td>Kheiron</td>\n",
       "      <td>London, England</td>\n",
       "      <td>Our mission is to give every woman a better fighting chance against breast cancer. Proud winner of the UK Governmentâ€™s new AI awards https://t.co/URLsBX3Jyy</td>\n",
       "      <td>False</td>\n",
       "      <td>2023-03-24 16:58:13+00:00</td>\n",
       "      <td>RT @Micabubby: So proud of @DrPeterKecskem5 CEO of our portfolio company @KheironMedical featured today on @CNN The superb, life-changing tâ€¦</td>\n",
       "      <td>NaN</td>\n",
       "      <td>Twitter Web App</td>\n",
       "    </tr>\n",
       "  </tbody>\n",
       "</table>\n",
       "</div>"
      ],
      "text/plain": [
       "                      user_name                  user_location  \\\n",
       "1501                Helu Yemane                            NaN   \n",
       "1114         Fazal Mehmood Khan  Islamic Republic of Pakistan    \n",
       "1574                    sharazi                            NaN   \n",
       "753   INTERNAL MEDICINE INCMNSZ              Ciudad de MÃ©xico   \n",
       "2925                    Kheiron                London, England   \n",
       "\n",
       "                                                                                                                                                        user_description  \\\n",
       "1501                                                                                                                                                         Helu shikor   \n",
       "1114  Ph.D. Microbiology, Wuhan Institute of VirologyðŸ‡¨ðŸ‡³Principal investigator in an NSFC research project # 32250410292 on researching phages & Lysin against AMR.   \n",
       "1574                                                                                                                                                                 NaN   \n",
       "753                               From the Internal Medicine Postgraduate Course of the Instituto Nacional de Ciencias MÃ©dicas y NutriciÃ³n Salvador ZubirÃ¡n, MÃ©xico.   \n",
       "2925      Our mission is to give every woman a better fighting chance against breast cancer. Proud winner of the UK Governmentâ€™s new AI awards https://t.co/URLsBX3Jyy   \n",
       "\n",
       "      user_verified                       date  \\\n",
       "1501          False  2023-03-21 18:11:13+00:00   \n",
       "1114          False  2023-03-25 03:24:52+00:00   \n",
       "1574          False  2023-03-21 05:34:00+00:00   \n",
       "753           False  2023-03-25 19:37:45+00:00   \n",
       "2925          False  2023-03-24 16:58:13+00:00   \n",
       "\n",
       "                                                                                                                                                       text  \\\n",
       "1501  RT @HUAWEI_TECH4ALL: Medicines are getting less effective but companies aren't incentivized to develop new ones.\\n\\nâŒ10% chance of success\\nðŸ’°â€¦   \n",
       "1114         RT @vjgondal: We are inviting you to submit your research work in our upcoming collection, \"Biofilms and their impact on disease,\" in BMC Mâ€¦   \n",
       "1574  RT @HUAWEI_TECH4ALL: Medicines are getting less effective but companies aren't incentivized to develop new ones.\\n\\nâŒ10% chance of success\\nðŸ’°â€¦   \n",
       "753         RT @NEJM: Special Article: Air Pollution and Mortality at the Intersection of Race and Social Class https://t.co/HFezgOVcrK\\n\\n#PublicHealthâ€¦   \n",
       "2925         RT @Micabubby: So proud of @DrPeterKecskem5 CEO of our portfolio company @KheironMedical featured today on @CNN The superb, life-changing tâ€¦   \n",
       "\n",
       "              hashtags               source  \n",
       "1501               NaN  Twitter for Android  \n",
       "1114               NaN   Twitter for iPhone  \n",
       "1574               NaN  Twitter for Android  \n",
       "753   ['PublicHealth']  Twitter for Android  \n",
       "2925               NaN      Twitter Web App  "
      ]
     },
     "execution_count": 1,
     "metadata": {},
     "output_type": "execute_result"
    }
   ],
   "source": [
    "import pandas as pd\n",
    "pd.set_option('display.max_colwidth', None)\n",
    "\n",
    "df = pd.read_csv(\"datasets/data.csv\")\n",
    "df.sample(5)"
   ]
  },
  {
   "cell_type": "code",
   "execution_count": 2,
   "id": "bbdb5edd",
   "metadata": {},
   "outputs": [],
   "source": [
    "df = df.rename(columns={'text': 'raw_sentence'})"
   ]
  },
  {
   "cell_type": "code",
   "execution_count": 3,
   "id": "c1369d86",
   "metadata": {},
   "outputs": [],
   "source": [
    "df = df.drop(['user_name','user_location','user_description','user_verified','date','hashtags','source'], axis=1)"
   ]
  },
  {
   "cell_type": "code",
   "execution_count": 4,
   "id": "bcdc956a",
   "metadata": {},
   "outputs": [
    {
     "data": {
      "text/html": [
       "<div>\n",
       "<style scoped>\n",
       "    .dataframe tbody tr th:only-of-type {\n",
       "        vertical-align: middle;\n",
       "    }\n",
       "\n",
       "    .dataframe tbody tr th {\n",
       "        vertical-align: top;\n",
       "    }\n",
       "\n",
       "    .dataframe thead th {\n",
       "        text-align: right;\n",
       "    }\n",
       "</style>\n",
       "<table border=\"1\" class=\"dataframe\">\n",
       "  <thead>\n",
       "    <tr style=\"text-align: right;\">\n",
       "      <th></th>\n",
       "      <th>raw_sentence</th>\n",
       "    </tr>\n",
       "  </thead>\n",
       "  <tbody>\n",
       "    <tr>\n",
       "      <th>3018</th>\n",
       "      <td>Looking for data on federal spending on childrenâ€™s health in OECD countries. Any folks on here that can point me in the right direction for any info it would be greatly appreciated #paediatrics #UNCRCA24 #SDG3</td>\n",
       "    </tr>\n",
       "    <tr>\n",
       "      <th>328</th>\n",
       "      <td>RT @UgandaRedCross: The fight to end HIV starts with prevention. Our Kalangala branch volunteers  today participated in the condoms distribâ€¦</td>\n",
       "    </tr>\n",
       "    <tr>\n",
       "      <th>557</th>\n",
       "      <td>RT @PositiveEast: We will never be silenced! \\n\\nWe will never be silent!\\n\\nJoin us today at the #FightHIVStigma #March #Vigil #Rally. \\n\\nLetâ€™sâ€¦</td>\n",
       "    </tr>\n",
       "    <tr>\n",
       "      <th>2073</th>\n",
       "      <td>Know the facts related to HIV/AIDS, and be the \"à¤œà¤¾à¤£à¤•à¤¾à¤°\"!\\n\\n#à¤•à¥‹à¤£à¤œà¤¾à¤¤à¤²à¥‹à¤œà¤¾à¤£à¤•à¤¾à¤° #beinformed #KnowHIV #knowAIDS #stayinformed #dial1097 #NACOApp #HIVawareness #AIDSawareness #HIV #AIDS #goasacs https://t.co/4zIsvO5TCf</td>\n",
       "    </tr>\n",
       "    <tr>\n",
       "      <th>2370</th>\n",
       "      <td>RT @jager_malcolm: Ever ready to serve #publichealth ðŸ“ https://t.co/piJtLEU7MX</td>\n",
       "    </tr>\n",
       "  </tbody>\n",
       "</table>\n",
       "</div>"
      ],
      "text/plain": [
       "                                                                                                                                                                                                                                                      raw_sentence\n",
       "3018                                           Looking for data on federal spending on childrenâ€™s health in OECD countries. Any folks on here that can point me in the right direction for any info it would be greatly appreciated #paediatrics #UNCRCA24 #SDG3\n",
       "328                                                                                                                 RT @UgandaRedCross: The fight to end HIV starts with prevention. Our Kalangala branch volunteers  today participated in the condoms distribâ€¦\n",
       "557                                                                                                         RT @PositiveEast: We will never be silenced! \\n\\nWe will never be silent!\\n\\nJoin us today at the #FightHIVStigma #March #Vigil #Rally. \\n\\nLetâ€™sâ€¦\n",
       "2073  Know the facts related to HIV/AIDS, and be the \"à¤œà¤¾à¤£à¤•à¤¾à¤°\"!\\n\\n#à¤•à¥‹à¤£à¤œà¤¾à¤¤à¤²à¥‹à¤œà¤¾à¤£à¤•à¤¾à¤° #beinformed #KnowHIV #knowAIDS #stayinformed #dial1097 #NACOApp #HIVawareness #AIDSawareness #HIV #AIDS #goasacs https://t.co/4zIsvO5TCf\n",
       "2370                                                                                                                                                                             RT @jager_malcolm: Ever ready to serve #publichealth ðŸ“ https://t.co/piJtLEU7MX"
      ]
     },
     "execution_count": 4,
     "metadata": {},
     "output_type": "execute_result"
    }
   ],
   "source": [
    "df.sample(5)"
   ]
  },
  {
   "cell_type": "code",
   "execution_count": 5,
   "id": "c59af1a8",
   "metadata": {},
   "outputs": [
    {
     "data": {
      "text/plain": [
       "(3265, 1)"
      ]
     },
     "execution_count": 5,
     "metadata": {},
     "output_type": "execute_result"
    }
   ],
   "source": [
    "df.shape"
   ]
  },
  {
   "cell_type": "code",
   "execution_count": 6,
   "id": "788aa174",
   "metadata": {},
   "outputs": [
    {
     "name": "stderr",
     "output_type": "stream",
     "text": [
      "[nltk_data] Downloading package stopwords to\n",
      "[nltk_data]     C:\\Users\\Christian\\AppData\\Roaming\\nltk_data...\n",
      "[nltk_data]   Package stopwords is already up-to-date!\n",
      "[nltk_data] Downloading package wordnet to\n",
      "[nltk_data]     C:\\Users\\Christian\\AppData\\Roaming\\nltk_data...\n",
      "[nltk_data]   Package wordnet is already up-to-date!\n"
     ]
    }
   ],
   "source": [
    "import re\n",
    "import nltk\n",
    "from nltk.corpus import stopwords\n",
    "from nltk.stem import WordNetLemmatizer\n",
    "\n",
    "nltk.download('stopwords')\n",
    "nltk.download('wordnet')\n",
    "\n",
    "stop_words = set(stopwords.words('english'))\n",
    "lemmatizer = WordNetLemmatizer()\n",
    "\n",
    "def clean_text(text):\n",
    "    # Remove URLs\n",
    "    text = re.sub(r'https?://\\S+', '', text)\n",
    "\n",
    "    # Remove HTML tags\n",
    "    text = re.sub(r'<.*?>', '', text)\n",
    "\n",
    "    # Remove Twitter usernames\n",
    "    text = re.sub(r'@[A-Za-z0-9_]+', '', text)\n",
    "\n",
    "    # Remove \"RT\" at the beginning of the text\n",
    "    text = re.sub(r'\\bRT\\b', '', text)\n",
    "\n",
    "    # Tokenize text\n",
    "    tokens = nltk.word_tokenize(text)\n",
    "\n",
    "    # Remove stop words\n",
    "    tokens = [token for token in tokens if token not in stop_words]\n",
    "\n",
    "    # Lemmatize tokens\n",
    "    tokens = [lemmatizer.lemmatize(token) for token in tokens]\n",
    "\n",
    "    # Remove all words with length less than or equal to 3\n",
    "    tokens = [token for token in tokens if len(token) > 3]\n",
    "\n",
    "    # Remove duplicate words\n",
    "    tokens = list(set(tokens))\n",
    "\n",
    "    # Remove punctuation except for hashtags with words\n",
    "    tokens = [re.sub(r'[^\\w\\s#]+', '', token) if not token.startswith('#') else token for token in tokens]\n",
    "\n",
    "    # Remove empty tokens\n",
    "    tokens = [token for token in tokens if token]\n",
    "\n",
    "    # Join tokens into text\n",
    "    text = ' '.join(tokens)\n",
    "\n",
    "    return text\n"
   ]
  },
  {
   "cell_type": "code",
   "execution_count": 7,
   "id": "480ac66c",
   "metadata": {},
   "outputs": [
    {
     "ename": "NameError",
     "evalue": "name 'word_tokenize' is not defined",
     "output_type": "error",
     "traceback": [
      "\u001b[1;31m---------------------------------------------------------------------------\u001b[0m",
      "\u001b[1;31mNameError\u001b[0m                                 Traceback (most recent call last)",
      "\u001b[1;32m~\\AppData\\Local\\Temp\\ipykernel_118496\\2296277203.py\u001b[0m in \u001b[0;36m<module>\u001b[1;34m\u001b[0m\n\u001b[1;32m----> 1\u001b[1;33m \u001b[0mdf\u001b[0m\u001b[1;33m[\u001b[0m\u001b[1;34m'clean_text'\u001b[0m\u001b[1;33m]\u001b[0m \u001b[1;33m=\u001b[0m \u001b[0mdf\u001b[0m\u001b[1;33m[\u001b[0m\u001b[1;34m'raw_sentence'\u001b[0m\u001b[1;33m]\u001b[0m\u001b[1;33m.\u001b[0m\u001b[0mapply\u001b[0m\u001b[1;33m(\u001b[0m\u001b[0mclean_text\u001b[0m\u001b[1;33m)\u001b[0m\u001b[1;33m\u001b[0m\u001b[1;33m\u001b[0m\u001b[0m\n\u001b[0m\u001b[0;32m      2\u001b[0m \u001b[0mdf\u001b[0m\u001b[1;33m[\u001b[0m\u001b[1;33m[\u001b[0m\u001b[1;34m'raw_sentence'\u001b[0m\u001b[1;33m,\u001b[0m\u001b[1;34m'clean_text'\u001b[0m\u001b[1;33m]\u001b[0m\u001b[1;33m]\u001b[0m\u001b[1;33m.\u001b[0m\u001b[0msample\u001b[0m\u001b[1;33m(\u001b[0m\u001b[1;36m5\u001b[0m\u001b[1;33m)\u001b[0m\u001b[1;33m\u001b[0m\u001b[1;33m\u001b[0m\u001b[0m\n",
      "\u001b[1;32m~\\anaconda3\\lib\\site-packages\\pandas\\core\\series.py\u001b[0m in \u001b[0;36mapply\u001b[1;34m(self, func, convert_dtype, args, **kwargs)\u001b[0m\n\u001b[0;32m   4431\u001b[0m         \u001b[0mdtype\u001b[0m\u001b[1;33m:\u001b[0m \u001b[0mfloat64\u001b[0m\u001b[1;33m\u001b[0m\u001b[1;33m\u001b[0m\u001b[0m\n\u001b[0;32m   4432\u001b[0m         \"\"\"\n\u001b[1;32m-> 4433\u001b[1;33m         \u001b[1;32mreturn\u001b[0m \u001b[0mSeriesApply\u001b[0m\u001b[1;33m(\u001b[0m\u001b[0mself\u001b[0m\u001b[1;33m,\u001b[0m \u001b[0mfunc\u001b[0m\u001b[1;33m,\u001b[0m \u001b[0mconvert_dtype\u001b[0m\u001b[1;33m,\u001b[0m \u001b[0margs\u001b[0m\u001b[1;33m,\u001b[0m \u001b[0mkwargs\u001b[0m\u001b[1;33m)\u001b[0m\u001b[1;33m.\u001b[0m\u001b[0mapply\u001b[0m\u001b[1;33m(\u001b[0m\u001b[1;33m)\u001b[0m\u001b[1;33m\u001b[0m\u001b[1;33m\u001b[0m\u001b[0m\n\u001b[0m\u001b[0;32m   4434\u001b[0m \u001b[1;33m\u001b[0m\u001b[0m\n\u001b[0;32m   4435\u001b[0m     def _reduce(\n",
      "\u001b[1;32m~\\anaconda3\\lib\\site-packages\\pandas\\core\\apply.py\u001b[0m in \u001b[0;36mapply\u001b[1;34m(self)\u001b[0m\n\u001b[0;32m   1086\u001b[0m             \u001b[1;32mreturn\u001b[0m \u001b[0mself\u001b[0m\u001b[1;33m.\u001b[0m\u001b[0mapply_str\u001b[0m\u001b[1;33m(\u001b[0m\u001b[1;33m)\u001b[0m\u001b[1;33m\u001b[0m\u001b[1;33m\u001b[0m\u001b[0m\n\u001b[0;32m   1087\u001b[0m \u001b[1;33m\u001b[0m\u001b[0m\n\u001b[1;32m-> 1088\u001b[1;33m         \u001b[1;32mreturn\u001b[0m \u001b[0mself\u001b[0m\u001b[1;33m.\u001b[0m\u001b[0mapply_standard\u001b[0m\u001b[1;33m(\u001b[0m\u001b[1;33m)\u001b[0m\u001b[1;33m\u001b[0m\u001b[1;33m\u001b[0m\u001b[0m\n\u001b[0m\u001b[0;32m   1089\u001b[0m \u001b[1;33m\u001b[0m\u001b[0m\n\u001b[0;32m   1090\u001b[0m     \u001b[1;32mdef\u001b[0m \u001b[0magg\u001b[0m\u001b[1;33m(\u001b[0m\u001b[0mself\u001b[0m\u001b[1;33m)\u001b[0m\u001b[1;33m:\u001b[0m\u001b[1;33m\u001b[0m\u001b[1;33m\u001b[0m\u001b[0m\n",
      "\u001b[1;32m~\\anaconda3\\lib\\site-packages\\pandas\\core\\apply.py\u001b[0m in \u001b[0;36mapply_standard\u001b[1;34m(self)\u001b[0m\n\u001b[0;32m   1141\u001b[0m                 \u001b[1;31m# List[Union[Callable[..., Any], str]]]]]\"; expected\u001b[0m\u001b[1;33m\u001b[0m\u001b[1;33m\u001b[0m\u001b[0m\n\u001b[0;32m   1142\u001b[0m                 \u001b[1;31m# \"Callable[[Any], Any]\"\u001b[0m\u001b[1;33m\u001b[0m\u001b[1;33m\u001b[0m\u001b[0m\n\u001b[1;32m-> 1143\u001b[1;33m                 mapped = lib.map_infer(\n\u001b[0m\u001b[0;32m   1144\u001b[0m                     \u001b[0mvalues\u001b[0m\u001b[1;33m,\u001b[0m\u001b[1;33m\u001b[0m\u001b[1;33m\u001b[0m\u001b[0m\n\u001b[0;32m   1145\u001b[0m                     \u001b[0mf\u001b[0m\u001b[1;33m,\u001b[0m  \u001b[1;31m# type: ignore[arg-type]\u001b[0m\u001b[1;33m\u001b[0m\u001b[1;33m\u001b[0m\u001b[0m\n",
      "\u001b[1;32m~\\anaconda3\\lib\\site-packages\\pandas\\_libs\\lib.pyx\u001b[0m in \u001b[0;36mpandas._libs.lib.map_infer\u001b[1;34m()\u001b[0m\n",
      "\u001b[1;32m~\\AppData\\Local\\Temp\\ipykernel_118496\\645143418.py\u001b[0m in \u001b[0;36mclean_text\u001b[1;34m(text)\u001b[0m\n\u001b[0;32m     18\u001b[0m \u001b[1;33m\u001b[0m\u001b[0m\n\u001b[0;32m     19\u001b[0m     \u001b[1;31m# Tokenize\u001b[0m\u001b[1;33m\u001b[0m\u001b[1;33m\u001b[0m\u001b[0m\n\u001b[1;32m---> 20\u001b[1;33m     \u001b[0mtokens\u001b[0m \u001b[1;33m=\u001b[0m \u001b[0mword_tokenize\u001b[0m\u001b[1;33m(\u001b[0m\u001b[0mtext\u001b[0m\u001b[1;33m)\u001b[0m\u001b[1;33m\u001b[0m\u001b[1;33m\u001b[0m\u001b[0m\n\u001b[0m\u001b[0;32m     21\u001b[0m \u001b[1;33m\u001b[0m\u001b[0m\n\u001b[0;32m     22\u001b[0m     \u001b[1;31m# Remove stopwords\u001b[0m\u001b[1;33m\u001b[0m\u001b[1;33m\u001b[0m\u001b[0m\n",
      "\u001b[1;31mNameError\u001b[0m: name 'word_tokenize' is not defined"
     ]
    }
   ],
   "source": [
    "df['clean_text'] = df['raw_sentence'].apply(clean_text)\n",
    "df[['raw_sentence','clean_text']].sample(5)"
   ]
  },
  {
   "cell_type": "code",
   "execution_count": null,
   "id": "4255de8f",
   "metadata": {},
   "outputs": [],
   "source": []
  },
  {
   "cell_type": "code",
   "execution_count": null,
   "id": "dd0d1889",
   "metadata": {},
   "outputs": [],
   "source": []
  }
 ],
 "metadata": {
  "kernelspec": {
   "display_name": "Python 3 (ipykernel)",
   "language": "python",
   "name": "python3"
  },
  "language_info": {
   "codemirror_mode": {
    "name": "ipython",
    "version": 3
   },
   "file_extension": ".py",
   "mimetype": "text/x-python",
   "name": "python",
   "nbconvert_exporter": "python",
   "pygments_lexer": "ipython3",
   "version": "3.9.13"
  }
 },
 "nbformat": 4,
 "nbformat_minor": 5
}
